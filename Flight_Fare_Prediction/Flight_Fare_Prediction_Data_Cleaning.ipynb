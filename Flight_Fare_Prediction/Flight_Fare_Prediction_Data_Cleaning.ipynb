{
 "cells": [
  {
   "cell_type": "markdown",
   "id": "7fd3fae6",
   "metadata": {},
   "source": [
    "## Flight Fare Prediction Project Life Cycle\n",
    "\n",
    "- Business Problem UnderStanding\n",
    "- Data Collection\n",
    "- Data Pre-Processing\n",
    "- Exploratary Data Analysis\n",
    "- Model Selection\n",
    "- Model Training \n",
    "- Model Evaluation & Fine Tuning\n",
    "- Model Deployment\n",
    "- Model Monitoring & Maintainance"
   ]
  },
  {
   "cell_type": "markdown",
   "id": "d9c977b7",
   "metadata": {},
   "source": [
    "### Business Problem UnderStanding\n",
    "Flight fare is determine dynamically by airlines and it depends on various factor like:\n",
    "- Flight Duration\n",
    "- Demand\n",
    "- No of stops\n",
    "- Route\n",
    "- No of days in advance the booking is made\n",
    "- Time of Departure & Arrival\n",
    "\n",
    "We need to create a model, which can predict the flight fare given its parameters.\n"
   ]
  },
  {
   "cell_type": "markdown",
   "id": "0d6eb7c6",
   "metadata": {},
   "source": [
    "### Data Collection\n",
    "Link: https://drive.google.com/file/d/1n9FqH3D1-nvviwvktEZeW4cgEPacGuRe/view?usp=sharing"
   ]
  },
  {
   "cell_type": "code",
   "execution_count": 2,
   "id": "efa2cc46",
   "metadata": {},
   "outputs": [],
   "source": [
    "# Importing the Liabraries\n",
    "import pandas as pd\n",
    "import numpy as np\n",
    "import matplotlib.pyplot as plt\n",
    "import seaborn as sns\n",
    "import warnings\n",
    "warnings.filterwarnings('ignore')"
   ]
  },
  {
   "cell_type": "code",
   "execution_count": 3,
   "id": "26ec629f",
   "metadata": {},
   "outputs": [
    {
     "data": {
      "text/html": [
       "<div>\n",
       "<style scoped>\n",
       "    .dataframe tbody tr th:only-of-type {\n",
       "        vertical-align: middle;\n",
       "    }\n",
       "\n",
       "    .dataframe tbody tr th {\n",
       "        vertical-align: top;\n",
       "    }\n",
       "\n",
       "    .dataframe thead th {\n",
       "        text-align: right;\n",
       "    }\n",
       "</style>\n",
       "<table border=\"1\" class=\"dataframe\">\n",
       "  <thead>\n",
       "    <tr style=\"text-align: right;\">\n",
       "      <th></th>\n",
       "      <th>Unnamed: 0</th>\n",
       "      <th>airline</th>\n",
       "      <th>flight</th>\n",
       "      <th>source_city</th>\n",
       "      <th>departure_time</th>\n",
       "      <th>stops</th>\n",
       "      <th>arrival_time</th>\n",
       "      <th>destination_city</th>\n",
       "      <th>class</th>\n",
       "      <th>duration</th>\n",
       "      <th>days_left</th>\n",
       "      <th>price</th>\n",
       "      <th>date</th>\n",
       "    </tr>\n",
       "  </thead>\n",
       "  <tbody>\n",
       "    <tr>\n",
       "      <th>0</th>\n",
       "      <td>0</td>\n",
       "      <td>SpiceJet</td>\n",
       "      <td>SG-8709</td>\n",
       "      <td>Delhi</td>\n",
       "      <td>Evening</td>\n",
       "      <td>zero</td>\n",
       "      <td>Night</td>\n",
       "      <td>Mumbai</td>\n",
       "      <td>Economy</td>\n",
       "      <td>2.17</td>\n",
       "      <td>1</td>\n",
       "      <td>5953</td>\n",
       "      <td>01-01-2018</td>\n",
       "    </tr>\n",
       "    <tr>\n",
       "      <th>1</th>\n",
       "      <td>1</td>\n",
       "      <td>SpiceJet</td>\n",
       "      <td>SG-8157</td>\n",
       "      <td>Delhi</td>\n",
       "      <td>Early_Morning</td>\n",
       "      <td>zero</td>\n",
       "      <td>Morning</td>\n",
       "      <td>Mumbai</td>\n",
       "      <td>Economy</td>\n",
       "      <td>2.33</td>\n",
       "      <td>1</td>\n",
       "      <td>5953</td>\n",
       "      <td>02-01-2018</td>\n",
       "    </tr>\n",
       "  </tbody>\n",
       "</table>\n",
       "</div>"
      ],
      "text/plain": [
       "   Unnamed: 0   airline   flight source_city departure_time stops  \\\n",
       "0           0  SpiceJet  SG-8709       Delhi        Evening  zero   \n",
       "1           1  SpiceJet  SG-8157       Delhi  Early_Morning  zero   \n",
       "\n",
       "  arrival_time destination_city    class  duration  days_left price  \\\n",
       "0        Night           Mumbai  Economy      2.17          1  5953   \n",
       "1      Morning           Mumbai  Economy      2.33          1  5953   \n",
       "\n",
       "         date  \n",
       "0  01-01-2018  \n",
       "1  02-01-2018  "
      ]
     },
     "execution_count": 3,
     "metadata": {},
     "output_type": "execute_result"
    }
   ],
   "source": [
    "# Fetching the data\n",
    "data = pd.read_csv('C:\\Work\\YouTube\\ML\\Flight_Fare_Prediction\\Flight_Data.csv', low_memory = False)\n",
    "data.head(2)"
   ]
  },
  {
   "cell_type": "code",
   "execution_count": 3,
   "id": "b1b0fa34",
   "metadata": {},
   "outputs": [
    {
     "data": {
      "text/html": [
       "<div>\n",
       "<style scoped>\n",
       "    .dataframe tbody tr th:only-of-type {\n",
       "        vertical-align: middle;\n",
       "    }\n",
       "\n",
       "    .dataframe tbody tr th {\n",
       "        vertical-align: top;\n",
       "    }\n",
       "\n",
       "    .dataframe thead th {\n",
       "        text-align: right;\n",
       "    }\n",
       "</style>\n",
       "<table border=\"1\" class=\"dataframe\">\n",
       "  <thead>\n",
       "    <tr style=\"text-align: right;\">\n",
       "      <th></th>\n",
       "      <th>Unnamed: 0</th>\n",
       "      <th>airline</th>\n",
       "      <th>flight</th>\n",
       "      <th>source_city</th>\n",
       "      <th>departure_time</th>\n",
       "      <th>stops</th>\n",
       "      <th>arrival_time</th>\n",
       "      <th>destination_city</th>\n",
       "      <th>class</th>\n",
       "      <th>duration</th>\n",
       "      <th>days_left</th>\n",
       "      <th>price</th>\n",
       "      <th>date</th>\n",
       "    </tr>\n",
       "  </thead>\n",
       "  <tbody>\n",
       "    <tr>\n",
       "      <th>301201</th>\n",
       "      <td>1300218</td>\n",
       "      <td>Vistara</td>\n",
       "      <td>UK-747</td>\n",
       "      <td>Delhi</td>\n",
       "      <td>Early_Morning</td>\n",
       "      <td>one</td>\n",
       "      <td>Night</td>\n",
       "      <td>Mumbai</td>\n",
       "      <td>Economy</td>\n",
       "      <td>113.83</td>\n",
       "      <td>1</td>\n",
       "      <td>14985</td>\n",
       "      <td>15-03-2018</td>\n",
       "    </tr>\n",
       "    <tr>\n",
       "      <th>301202</th>\n",
       "      <td>1300219</td>\n",
       "      <td>Air_India</td>\n",
       "      <td>AI-512</td>\n",
       "      <td>Delhi</td>\n",
       "      <td>Afternoon</td>\n",
       "      <td>one</td>\n",
       "      <td>Night</td>\n",
       "      <td>Mumbai</td>\n",
       "      <td>Economy</td>\n",
       "      <td>97.58</td>\n",
       "      <td>1</td>\n",
       "      <td>14670</td>\n",
       "      <td>16-03-2018</td>\n",
       "    </tr>\n",
       "    <tr>\n",
       "      <th>301203</th>\n",
       "      <td>1300220</td>\n",
       "      <td>Air_India</td>\n",
       "      <td>AI-537</td>\n",
       "      <td>Delhi</td>\n",
       "      <td>Evening</td>\n",
       "      <td>one</td>\n",
       "      <td>Morning</td>\n",
       "      <td>Mumbai</td>\n",
       "      <td>Economy</td>\n",
       "      <td>115.83</td>\n",
       "      <td>1</td>\n",
       "      <td>15195</td>\n",
       "      <td>17-03-2018</td>\n",
       "    </tr>\n",
       "    <tr>\n",
       "      <th>301204</th>\n",
       "      <td>1300221</td>\n",
       "      <td>Vistara</td>\n",
       "      <td>UK-977</td>\n",
       "      <td>Delhi</td>\n",
       "      <td>Evening</td>\n",
       "      <td>zero</td>\n",
       "      <td>Night</td>\n",
       "      <td>Mumbai</td>\n",
       "      <td>Economy</td>\n",
       "      <td>622.25</td>\n",
       "      <td>1</td>\n",
       "      <td>15720</td>\n",
       "      <td>18-03-2018</td>\n",
       "    </tr>\n",
       "    <tr>\n",
       "      <th>301205</th>\n",
       "      <td>1300222</td>\n",
       "      <td>Vistara</td>\n",
       "      <td>UK-809</td>\n",
       "      <td>Delhi</td>\n",
       "      <td>Evening</td>\n",
       "      <td>one</td>\n",
       "      <td>Night</td>\n",
       "      <td>Mumbai</td>\n",
       "      <td>Economy</td>\n",
       "      <td>124.42</td>\n",
       "      <td>1</td>\n",
       "      <td>15983</td>\n",
       "      <td>19-03-2018</td>\n",
       "    </tr>\n",
       "  </tbody>\n",
       "</table>\n",
       "</div>"
      ],
      "text/plain": [
       "        Unnamed: 0    airline  flight source_city departure_time stops  \\\n",
       "301201     1300218    Vistara  UK-747       Delhi  Early_Morning   one   \n",
       "301202     1300219  Air_India  AI-512       Delhi      Afternoon   one   \n",
       "301203     1300220  Air_India  AI-537       Delhi        Evening   one   \n",
       "301204     1300221    Vistara  UK-977       Delhi        Evening  zero   \n",
       "301205     1300222    Vistara  UK-809       Delhi        Evening   one   \n",
       "\n",
       "       arrival_time destination_city    class  duration  days_left  price  \\\n",
       "301201        Night           Mumbai  Economy    113.83          1  14985   \n",
       "301202        Night           Mumbai  Economy     97.58          1  14670   \n",
       "301203      Morning           Mumbai  Economy    115.83          1  15195   \n",
       "301204        Night           Mumbai  Economy    622.25          1  15720   \n",
       "301205        Night           Mumbai  Economy    124.42          1  15983   \n",
       "\n",
       "              date  \n",
       "301201  15-03-2018  \n",
       "301202  16-03-2018  \n",
       "301203  17-03-2018  \n",
       "301204  18-03-2018  \n",
       "301205  19-03-2018  "
      ]
     },
     "execution_count": 3,
     "metadata": {},
     "output_type": "execute_result"
    }
   ],
   "source": [
    "data.tail()"
   ]
  },
  {
   "cell_type": "code",
   "execution_count": 4,
   "id": "6dd7611c",
   "metadata": {},
   "outputs": [
    {
     "name": "stdout",
     "output_type": "stream",
     "text": [
      "<class 'pandas.core.frame.DataFrame'>\n",
      "RangeIndex: 301206 entries, 0 to 301205\n",
      "Data columns (total 13 columns):\n",
      " #   Column            Non-Null Count   Dtype  \n",
      "---  ------            --------------   -----  \n",
      " 0   Unnamed: 0        301206 non-null  int64  \n",
      " 1   airline           300754 non-null  object \n",
      " 2   flight            301206 non-null  object \n",
      " 3   source_city       301206 non-null  object \n",
      " 4   departure_time    301206 non-null  object \n",
      " 5   stops             301206 non-null  object \n",
      " 6   arrival_time      301206 non-null  object \n",
      " 7   destination_city  301206 non-null  object \n",
      " 8   class             301006 non-null  object \n",
      " 9   duration          300956 non-null  float64\n",
      " 10  days_left         301206 non-null  int64  \n",
      " 11  price             301106 non-null  object \n",
      " 12  date              358 non-null     object \n",
      "dtypes: float64(1), int64(2), object(10)\n",
      "memory usage: 29.9+ MB\n"
     ]
    }
   ],
   "source": [
    "data.info()"
   ]
  },
  {
   "cell_type": "code",
   "execution_count": 5,
   "id": "e9de11f3",
   "metadata": {},
   "outputs": [],
   "source": [
    "# Creating a copy of data\n",
    "df = data.copy()"
   ]
  },
  {
   "cell_type": "code",
   "execution_count": 6,
   "id": "13868d8b",
   "metadata": {},
   "outputs": [
    {
     "data": {
      "text/html": [
       "<div>\n",
       "<style scoped>\n",
       "    .dataframe tbody tr th:only-of-type {\n",
       "        vertical-align: middle;\n",
       "    }\n",
       "\n",
       "    .dataframe tbody tr th {\n",
       "        vertical-align: top;\n",
       "    }\n",
       "\n",
       "    .dataframe thead th {\n",
       "        text-align: right;\n",
       "    }\n",
       "</style>\n",
       "<table border=\"1\" class=\"dataframe\">\n",
       "  <thead>\n",
       "    <tr style=\"text-align: right;\">\n",
       "      <th></th>\n",
       "      <th>Unnamed: 0</th>\n",
       "      <th>airline</th>\n",
       "      <th>flight</th>\n",
       "      <th>source_city</th>\n",
       "      <th>departure_time</th>\n",
       "      <th>stops</th>\n",
       "      <th>arrival_time</th>\n",
       "      <th>destination_city</th>\n",
       "      <th>class</th>\n",
       "      <th>duration</th>\n",
       "      <th>days_left</th>\n",
       "      <th>price</th>\n",
       "      <th>date</th>\n",
       "    </tr>\n",
       "  </thead>\n",
       "  <tbody>\n",
       "    <tr>\n",
       "      <th>0</th>\n",
       "      <td>0</td>\n",
       "      <td>SpiceJet</td>\n",
       "      <td>SG-8709</td>\n",
       "      <td>Delhi</td>\n",
       "      <td>Evening</td>\n",
       "      <td>zero</td>\n",
       "      <td>Night</td>\n",
       "      <td>Mumbai</td>\n",
       "      <td>Economy</td>\n",
       "      <td>2.17</td>\n",
       "      <td>1</td>\n",
       "      <td>5953</td>\n",
       "      <td>01-01-2018</td>\n",
       "    </tr>\n",
       "    <tr>\n",
       "      <th>1</th>\n",
       "      <td>1</td>\n",
       "      <td>SpiceJet</td>\n",
       "      <td>SG-8157</td>\n",
       "      <td>Delhi</td>\n",
       "      <td>Early_Morning</td>\n",
       "      <td>zero</td>\n",
       "      <td>Morning</td>\n",
       "      <td>Mumbai</td>\n",
       "      <td>Economy</td>\n",
       "      <td>2.33</td>\n",
       "      <td>1</td>\n",
       "      <td>5953</td>\n",
       "      <td>02-01-2018</td>\n",
       "    </tr>\n",
       "  </tbody>\n",
       "</table>\n",
       "</div>"
      ],
      "text/plain": [
       "   Unnamed: 0   airline   flight source_city departure_time stops  \\\n",
       "0           0  SpiceJet  SG-8709       Delhi        Evening  zero   \n",
       "1           1  SpiceJet  SG-8157       Delhi  Early_Morning  zero   \n",
       "\n",
       "  arrival_time destination_city    class  duration  days_left price  \\\n",
       "0        Night           Mumbai  Economy      2.17          1  5953   \n",
       "1      Morning           Mumbai  Economy      2.33          1  5953   \n",
       "\n",
       "         date  \n",
       "0  01-01-2018  \n",
       "1  02-01-2018  "
      ]
     },
     "execution_count": 6,
     "metadata": {},
     "output_type": "execute_result"
    }
   ],
   "source": [
    "df.head(2)"
   ]
  },
  {
   "cell_type": "code",
   "execution_count": 7,
   "id": "c4c55223",
   "metadata": {},
   "outputs": [
    {
     "data": {
      "text/html": [
       "<div>\n",
       "<style scoped>\n",
       "    .dataframe tbody tr th:only-of-type {\n",
       "        vertical-align: middle;\n",
       "    }\n",
       "\n",
       "    .dataframe tbody tr th {\n",
       "        vertical-align: top;\n",
       "    }\n",
       "\n",
       "    .dataframe thead th {\n",
       "        text-align: right;\n",
       "    }\n",
       "</style>\n",
       "<table border=\"1\" class=\"dataframe\">\n",
       "  <thead>\n",
       "    <tr style=\"text-align: right;\">\n",
       "      <th></th>\n",
       "      <th>Unnamed: 0</th>\n",
       "      <th>airline</th>\n",
       "      <th>flight</th>\n",
       "      <th>source_city</th>\n",
       "      <th>departure_time</th>\n",
       "      <th>stops</th>\n",
       "      <th>arrival_time</th>\n",
       "      <th>destination_city</th>\n",
       "      <th>class</th>\n",
       "      <th>duration</th>\n",
       "      <th>days_left</th>\n",
       "      <th>price</th>\n",
       "      <th>date</th>\n",
       "    </tr>\n",
       "  </thead>\n",
       "  <tbody>\n",
       "  </tbody>\n",
       "</table>\n",
       "</div>"
      ],
      "text/plain": [
       "Empty DataFrame\n",
       "Columns: [Unnamed: 0, airline, flight, source_city, departure_time, stops, arrival_time, destination_city, class, duration, days_left, price, date]\n",
       "Index: []"
      ]
     },
     "execution_count": 7,
     "metadata": {},
     "output_type": "execute_result"
    }
   ],
   "source": [
    "# Checking duplicate entrie\n",
    "df_duplicate = df[df.duplicated()]\n",
    "df_duplicate"
   ]
  },
  {
   "cell_type": "code",
   "execution_count": 8,
   "id": "aa746327",
   "metadata": {},
   "outputs": [
    {
     "data": {
      "text/html": [
       "<div>\n",
       "<style scoped>\n",
       "    .dataframe tbody tr th:only-of-type {\n",
       "        vertical-align: middle;\n",
       "    }\n",
       "\n",
       "    .dataframe tbody tr th {\n",
       "        vertical-align: top;\n",
       "    }\n",
       "\n",
       "    .dataframe thead th {\n",
       "        text-align: right;\n",
       "    }\n",
       "</style>\n",
       "<table border=\"1\" class=\"dataframe\">\n",
       "  <thead>\n",
       "    <tr style=\"text-align: right;\">\n",
       "      <th></th>\n",
       "      <th>Null_Count</th>\n",
       "      <th>Null_Percentage</th>\n",
       "    </tr>\n",
       "  </thead>\n",
       "  <tbody>\n",
       "    <tr>\n",
       "      <th>Unnamed: 0</th>\n",
       "      <td>0</td>\n",
       "      <td>0.000000</td>\n",
       "    </tr>\n",
       "    <tr>\n",
       "      <th>airline</th>\n",
       "      <td>452</td>\n",
       "      <td>0.150063</td>\n",
       "    </tr>\n",
       "    <tr>\n",
       "      <th>flight</th>\n",
       "      <td>0</td>\n",
       "      <td>0.000000</td>\n",
       "    </tr>\n",
       "    <tr>\n",
       "      <th>source_city</th>\n",
       "      <td>0</td>\n",
       "      <td>0.000000</td>\n",
       "    </tr>\n",
       "    <tr>\n",
       "      <th>departure_time</th>\n",
       "      <td>0</td>\n",
       "      <td>0.000000</td>\n",
       "    </tr>\n",
       "    <tr>\n",
       "      <th>stops</th>\n",
       "      <td>0</td>\n",
       "      <td>0.000000</td>\n",
       "    </tr>\n",
       "    <tr>\n",
       "      <th>arrival_time</th>\n",
       "      <td>0</td>\n",
       "      <td>0.000000</td>\n",
       "    </tr>\n",
       "    <tr>\n",
       "      <th>destination_city</th>\n",
       "      <td>0</td>\n",
       "      <td>0.000000</td>\n",
       "    </tr>\n",
       "    <tr>\n",
       "      <th>class</th>\n",
       "      <td>200</td>\n",
       "      <td>0.066400</td>\n",
       "    </tr>\n",
       "    <tr>\n",
       "      <th>duration</th>\n",
       "      <td>250</td>\n",
       "      <td>0.083000</td>\n",
       "    </tr>\n",
       "    <tr>\n",
       "      <th>days_left</th>\n",
       "      <td>0</td>\n",
       "      <td>0.000000</td>\n",
       "    </tr>\n",
       "    <tr>\n",
       "      <th>price</th>\n",
       "      <td>100</td>\n",
       "      <td>0.033200</td>\n",
       "    </tr>\n",
       "    <tr>\n",
       "      <th>date</th>\n",
       "      <td>300848</td>\n",
       "      <td>99.881144</td>\n",
       "    </tr>\n",
       "  </tbody>\n",
       "</table>\n",
       "</div>"
      ],
      "text/plain": [
       "                  Null_Count  Null_Percentage\n",
       "Unnamed: 0                 0         0.000000\n",
       "airline                  452         0.150063\n",
       "flight                     0         0.000000\n",
       "source_city                0         0.000000\n",
       "departure_time             0         0.000000\n",
       "stops                      0         0.000000\n",
       "arrival_time               0         0.000000\n",
       "destination_city           0         0.000000\n",
       "class                    200         0.066400\n",
       "duration                 250         0.083000\n",
       "days_left                  0         0.000000\n",
       "price                    100         0.033200\n",
       "date                  300848        99.881144"
      ]
     },
     "execution_count": 8,
     "metadata": {},
     "output_type": "execute_result"
    }
   ],
   "source": [
    "# checking the null column\n",
    "null_values = df.isnull().sum()\n",
    "null_values\n",
    "\n",
    "null_value_percentage = (null_values/df.shape[0]) * 100\n",
    "null_value_percentage\n",
    "\n",
    "df_null = pd.DataFrame({'Null_Count':null_values, 'Null_Percentage': null_value_percentage})\n",
    "df_null"
   ]
  },
  {
   "cell_type": "code",
   "execution_count": 9,
   "id": "180c2063",
   "metadata": {},
   "outputs": [
    {
     "data": {
      "text/plain": [
       "Index(['Unnamed: 0', 'airline', 'flight', 'source_city', 'departure_time',\n",
       "       'stops', 'arrival_time', 'destination_city', 'class', 'duration',\n",
       "       'days_left', 'price', 'date'],\n",
       "      dtype='object')"
      ]
     },
     "execution_count": 9,
     "metadata": {},
     "output_type": "execute_result"
    }
   ],
   "source": [
    "all_column = df.columns\n",
    "all_column"
   ]
  },
  {
   "cell_type": "code",
   "execution_count": 10,
   "id": "03e87fff",
   "metadata": {},
   "outputs": [
    {
     "data": {
      "text/plain": [
       "Index(['Unnamed: 0', 'duration', 'days_left'], dtype='object')"
      ]
     },
     "execution_count": 10,
     "metadata": {},
     "output_type": "execute_result"
    }
   ],
   "source": [
    "# Numeric Column\n",
    "numeric_column = df.select_dtypes(include = 'number').columns\n",
    "numeric_column"
   ]
  },
  {
   "cell_type": "code",
   "execution_count": 11,
   "id": "25ff43b4",
   "metadata": {},
   "outputs": [
    {
     "data": {
      "text/plain": [
       "Index(['airline', 'flight', 'source_city', 'departure_time', 'stops',\n",
       "       'arrival_time', 'destination_city', 'class', 'price', 'date'],\n",
       "      dtype='object')"
      ]
     },
     "execution_count": 11,
     "metadata": {},
     "output_type": "execute_result"
    }
   ],
   "source": [
    "# Object column\n",
    "object_column = df.select_dtypes(include = 'object').columns\n",
    "object_column"
   ]
  },
  {
   "cell_type": "markdown",
   "id": "9a3c3a28",
   "metadata": {},
   "source": [
    "### Handling the data\n",
    "- We need to drop 'Unnamed: 0', 'date' columns.\n",
    "- We need to drop the null values on 'airline' column.\n",
    "- We need to change 'departure_time' column from object to numeric.\n",
    "- We need to change 'arrival_time' column from object to numeric.\n",
    "- We need to change 'class' column from object to numeric & also drop the nan value.\n",
    "- We need to drop the null values on 'duration' column.\n",
    "- We need to drop the null values on 'price' column & change the datatype."
   ]
  },
  {
   "cell_type": "markdown",
   "id": "f14f59d8",
   "metadata": {},
   "source": [
    "### Data Cleaning"
   ]
  },
  {
   "cell_type": "code",
   "execution_count": 12,
   "id": "82f4edf9",
   "metadata": {},
   "outputs": [],
   "source": [
    "# Dropping the Unnamed:0 & date column\n",
    "df.drop(['Unnamed: 0','date'], axis = 1, inplace = True)"
   ]
  },
  {
   "cell_type": "code",
   "execution_count": 13,
   "id": "9ede782a",
   "metadata": {},
   "outputs": [
    {
     "data": {
      "text/html": [
       "<div>\n",
       "<style scoped>\n",
       "    .dataframe tbody tr th:only-of-type {\n",
       "        vertical-align: middle;\n",
       "    }\n",
       "\n",
       "    .dataframe tbody tr th {\n",
       "        vertical-align: top;\n",
       "    }\n",
       "\n",
       "    .dataframe thead th {\n",
       "        text-align: right;\n",
       "    }\n",
       "</style>\n",
       "<table border=\"1\" class=\"dataframe\">\n",
       "  <thead>\n",
       "    <tr style=\"text-align: right;\">\n",
       "      <th></th>\n",
       "      <th>airline</th>\n",
       "      <th>flight</th>\n",
       "      <th>source_city</th>\n",
       "      <th>departure_time</th>\n",
       "      <th>stops</th>\n",
       "      <th>arrival_time</th>\n",
       "      <th>destination_city</th>\n",
       "      <th>class</th>\n",
       "      <th>duration</th>\n",
       "      <th>days_left</th>\n",
       "      <th>price</th>\n",
       "    </tr>\n",
       "  </thead>\n",
       "  <tbody>\n",
       "    <tr>\n",
       "      <th>0</th>\n",
       "      <td>SpiceJet</td>\n",
       "      <td>SG-8709</td>\n",
       "      <td>Delhi</td>\n",
       "      <td>Evening</td>\n",
       "      <td>zero</td>\n",
       "      <td>Night</td>\n",
       "      <td>Mumbai</td>\n",
       "      <td>Economy</td>\n",
       "      <td>2.17</td>\n",
       "      <td>1</td>\n",
       "      <td>5953</td>\n",
       "    </tr>\n",
       "    <tr>\n",
       "      <th>1</th>\n",
       "      <td>SpiceJet</td>\n",
       "      <td>SG-8157</td>\n",
       "      <td>Delhi</td>\n",
       "      <td>Early_Morning</td>\n",
       "      <td>zero</td>\n",
       "      <td>Morning</td>\n",
       "      <td>Mumbai</td>\n",
       "      <td>Economy</td>\n",
       "      <td>2.33</td>\n",
       "      <td>1</td>\n",
       "      <td>5953</td>\n",
       "    </tr>\n",
       "    <tr>\n",
       "      <th>2</th>\n",
       "      <td>AirAsia</td>\n",
       "      <td>I5-764</td>\n",
       "      <td>Delhi</td>\n",
       "      <td>Early_Morning</td>\n",
       "      <td>zero</td>\n",
       "      <td>Early_Morning</td>\n",
       "      <td>Mumbai</td>\n",
       "      <td>Economy</td>\n",
       "      <td>2.17</td>\n",
       "      <td>1</td>\n",
       "      <td>5956</td>\n",
       "    </tr>\n",
       "    <tr>\n",
       "      <th>3</th>\n",
       "      <td>Vistara</td>\n",
       "      <td>UK-995</td>\n",
       "      <td>Delhi</td>\n",
       "      <td>Morning</td>\n",
       "      <td>zero</td>\n",
       "      <td>Afternoon</td>\n",
       "      <td>Mumbai</td>\n",
       "      <td>Economy</td>\n",
       "      <td>2.25</td>\n",
       "      <td>1</td>\n",
       "      <td>5955</td>\n",
       "    </tr>\n",
       "    <tr>\n",
       "      <th>4</th>\n",
       "      <td>Vistara</td>\n",
       "      <td>UK-963</td>\n",
       "      <td>Delhi</td>\n",
       "      <td>Morning</td>\n",
       "      <td>zero</td>\n",
       "      <td>Morning</td>\n",
       "      <td>Mumbai</td>\n",
       "      <td>Economy</td>\n",
       "      <td>2.33</td>\n",
       "      <td>1</td>\n",
       "      <td>5955</td>\n",
       "    </tr>\n",
       "  </tbody>\n",
       "</table>\n",
       "</div>"
      ],
      "text/plain": [
       "    airline   flight source_city departure_time stops   arrival_time  \\\n",
       "0  SpiceJet  SG-8709       Delhi        Evening  zero          Night   \n",
       "1  SpiceJet  SG-8157       Delhi  Early_Morning  zero        Morning   \n",
       "2   AirAsia   I5-764       Delhi  Early_Morning  zero  Early_Morning   \n",
       "3   Vistara   UK-995       Delhi        Morning  zero      Afternoon   \n",
       "4   Vistara   UK-963       Delhi        Morning  zero        Morning   \n",
       "\n",
       "  destination_city    class  duration  days_left price  \n",
       "0           Mumbai  Economy      2.17          1  5953  \n",
       "1           Mumbai  Economy      2.33          1  5953  \n",
       "2           Mumbai  Economy      2.17          1  5956  \n",
       "3           Mumbai  Economy      2.25          1  5955  \n",
       "4           Mumbai  Economy      2.33          1  5955  "
      ]
     },
     "execution_count": 13,
     "metadata": {},
     "output_type": "execute_result"
    }
   ],
   "source": [
    "df.head()"
   ]
  },
  {
   "cell_type": "code",
   "execution_count": 14,
   "id": "ba86fbd4",
   "metadata": {},
   "outputs": [
    {
     "data": {
      "text/plain": [
       "dtype('float64')"
      ]
     },
     "execution_count": 14,
     "metadata": {},
     "output_type": "execute_result"
    }
   ],
   "source": [
    "# Converting the datatype into object to numeric 'price' column\n",
    "df['price'] = pd.to_numeric(df['price'], errors = 'coerce')\n",
    "df['price'].dtypes"
   ]
  },
  {
   "cell_type": "code",
   "execution_count": 15,
   "id": "1b827e6b",
   "metadata": {},
   "outputs": [
    {
     "data": {
      "text/plain": [
       "airline             0\n",
       "flight              0\n",
       "source_city         0\n",
       "departure_time      0\n",
       "stops               0\n",
       "arrival_time        0\n",
       "destination_city    0\n",
       "class               0\n",
       "duration            0\n",
       "days_left           0\n",
       "price               0\n",
       "dtype: int64"
      ]
     },
     "execution_count": 15,
     "metadata": {},
     "output_type": "execute_result"
    }
   ],
   "source": [
    "# Dropping the null values on airline column\n",
    "df = df.dropna()\n",
    "df.isna().sum()"
   ]
  },
  {
   "cell_type": "code",
   "execution_count": 16,
   "id": "bff07b6c",
   "metadata": {},
   "outputs": [
    {
     "data": {
      "text/plain": [
       "(300204, 11)"
      ]
     },
     "execution_count": 16,
     "metadata": {},
     "output_type": "execute_result"
    }
   ],
   "source": [
    "df.shape"
   ]
  },
  {
   "cell_type": "code",
   "execution_count": 17,
   "id": "e7eb8540",
   "metadata": {},
   "outputs": [],
   "source": [
    "# Function to convert time in decimal to minutes\n",
    "def time_minute(t):\n",
    "    i = t//1\n",
    "    f = round(t%1, 2)\n",
    "    time = i*60 + f*100\n",
    "    return time\n",
    "    "
   ]
  },
  {
   "cell_type": "code",
   "execution_count": 18,
   "id": "efc8086c",
   "metadata": {},
   "outputs": [
    {
     "data": {
      "text/plain": [
       "0           137.0\n",
       "1           153.0\n",
       "2           137.0\n",
       "3           145.0\n",
       "4           153.0\n",
       "           ...   \n",
       "301201     6863.0\n",
       "301202     5878.0\n",
       "301203     6983.0\n",
       "301204    37345.0\n",
       "301205     7482.0\n",
       "Name: duration_minute, Length: 300204, dtype: float64"
      ]
     },
     "execution_count": 18,
     "metadata": {},
     "output_type": "execute_result"
    }
   ],
   "source": [
    "df['duration_minute'] = df['duration'].apply(time_minute)\n",
    "df['duration_minute']"
   ]
  },
  {
   "cell_type": "code",
   "execution_count": 19,
   "id": "fad59510",
   "metadata": {},
   "outputs": [
    {
     "data": {
      "text/html": [
       "<div>\n",
       "<style scoped>\n",
       "    .dataframe tbody tr th:only-of-type {\n",
       "        vertical-align: middle;\n",
       "    }\n",
       "\n",
       "    .dataframe tbody tr th {\n",
       "        vertical-align: top;\n",
       "    }\n",
       "\n",
       "    .dataframe thead th {\n",
       "        text-align: right;\n",
       "    }\n",
       "</style>\n",
       "<table border=\"1\" class=\"dataframe\">\n",
       "  <thead>\n",
       "    <tr style=\"text-align: right;\">\n",
       "      <th></th>\n",
       "      <th>airline</th>\n",
       "      <th>flight</th>\n",
       "      <th>source_city</th>\n",
       "      <th>departure_time</th>\n",
       "      <th>stops</th>\n",
       "      <th>arrival_time</th>\n",
       "      <th>destination_city</th>\n",
       "      <th>class</th>\n",
       "      <th>days_left</th>\n",
       "      <th>price</th>\n",
       "      <th>duration_minute</th>\n",
       "    </tr>\n",
       "  </thead>\n",
       "  <tbody>\n",
       "    <tr>\n",
       "      <th>0</th>\n",
       "      <td>SpiceJet</td>\n",
       "      <td>SG-8709</td>\n",
       "      <td>Delhi</td>\n",
       "      <td>Evening</td>\n",
       "      <td>zero</td>\n",
       "      <td>Night</td>\n",
       "      <td>Mumbai</td>\n",
       "      <td>Economy</td>\n",
       "      <td>1</td>\n",
       "      <td>5953.0</td>\n",
       "      <td>137.0</td>\n",
       "    </tr>\n",
       "    <tr>\n",
       "      <th>1</th>\n",
       "      <td>SpiceJet</td>\n",
       "      <td>SG-8157</td>\n",
       "      <td>Delhi</td>\n",
       "      <td>Early_Morning</td>\n",
       "      <td>zero</td>\n",
       "      <td>Morning</td>\n",
       "      <td>Mumbai</td>\n",
       "      <td>Economy</td>\n",
       "      <td>1</td>\n",
       "      <td>5953.0</td>\n",
       "      <td>153.0</td>\n",
       "    </tr>\n",
       "    <tr>\n",
       "      <th>2</th>\n",
       "      <td>AirAsia</td>\n",
       "      <td>I5-764</td>\n",
       "      <td>Delhi</td>\n",
       "      <td>Early_Morning</td>\n",
       "      <td>zero</td>\n",
       "      <td>Early_Morning</td>\n",
       "      <td>Mumbai</td>\n",
       "      <td>Economy</td>\n",
       "      <td>1</td>\n",
       "      <td>5956.0</td>\n",
       "      <td>137.0</td>\n",
       "    </tr>\n",
       "    <tr>\n",
       "      <th>3</th>\n",
       "      <td>Vistara</td>\n",
       "      <td>UK-995</td>\n",
       "      <td>Delhi</td>\n",
       "      <td>Morning</td>\n",
       "      <td>zero</td>\n",
       "      <td>Afternoon</td>\n",
       "      <td>Mumbai</td>\n",
       "      <td>Economy</td>\n",
       "      <td>1</td>\n",
       "      <td>5955.0</td>\n",
       "      <td>145.0</td>\n",
       "    </tr>\n",
       "    <tr>\n",
       "      <th>4</th>\n",
       "      <td>Vistara</td>\n",
       "      <td>UK-963</td>\n",
       "      <td>Delhi</td>\n",
       "      <td>Morning</td>\n",
       "      <td>zero</td>\n",
       "      <td>Morning</td>\n",
       "      <td>Mumbai</td>\n",
       "      <td>Economy</td>\n",
       "      <td>1</td>\n",
       "      <td>5955.0</td>\n",
       "      <td>153.0</td>\n",
       "    </tr>\n",
       "  </tbody>\n",
       "</table>\n",
       "</div>"
      ],
      "text/plain": [
       "    airline   flight source_city departure_time stops   arrival_time  \\\n",
       "0  SpiceJet  SG-8709       Delhi        Evening  zero          Night   \n",
       "1  SpiceJet  SG-8157       Delhi  Early_Morning  zero        Morning   \n",
       "2   AirAsia   I5-764       Delhi  Early_Morning  zero  Early_Morning   \n",
       "3   Vistara   UK-995       Delhi        Morning  zero      Afternoon   \n",
       "4   Vistara   UK-963       Delhi        Morning  zero        Morning   \n",
       "\n",
       "  destination_city    class  days_left   price  duration_minute  \n",
       "0           Mumbai  Economy          1  5953.0            137.0  \n",
       "1           Mumbai  Economy          1  5953.0            153.0  \n",
       "2           Mumbai  Economy          1  5956.0            137.0  \n",
       "3           Mumbai  Economy          1  5955.0            145.0  \n",
       "4           Mumbai  Economy          1  5955.0            153.0  "
      ]
     },
     "execution_count": 19,
     "metadata": {},
     "output_type": "execute_result"
    }
   ],
   "source": [
    "# Dropping 'duration' columns\n",
    "df.drop(columns = ['duration'], axis = 1, inplace = True)\n",
    "df.head()"
   ]
  },
  {
   "cell_type": "markdown",
   "id": "f49b6523",
   "metadata": {},
   "source": [
    "### Creating a column for routes"
   ]
  },
  {
   "cell_type": "code",
   "execution_count": 20,
   "id": "42825b80",
   "metadata": {},
   "outputs": [
    {
     "data": {
      "text/plain": [
       "Delhi-Mumbai           15340\n",
       "Mumbai-Delhi           14809\n",
       "Delhi-Bangalore        14012\n",
       "Bangalore-Delhi        13756\n",
       "Bangalore-Mumbai       12939\n",
       "Mumbai-Bangalore       12885\n",
       "Mumbai-Kolkata         12602\n",
       "Delhi-Kolkata          11934\n",
       "Kolkata-Mumbai         11467\n",
       "Delhi-Chennai          10780\n",
       "Kolkata-Delhi          10506\n",
       "Mumbai-Hyderabad       10470\n",
       "Mumbai-Chennai         10130\n",
       "Hyderabad-Mumbai       10064\n",
       "Bangalore-Kolkata      10028\n",
       "Kolkata-Bangalore       9824\n",
       "Chennai-Delhi           9783\n",
       "Chennai-Mumbai          9338\n",
       "Delhi-Hyderabad         9328\n",
       "Bangalore-Hyderabad     8928\n",
       "Hyderabad-Delhi         8506\n",
       "Hyderabad-Kolkata       7987\n",
       "Kolkata-Hyderabad       7897\n",
       "Hyderabad-Bangalore     7854\n",
       "Chennai-Kolkata         6983\n",
       "Kolkata-Chennai         6653\n",
       "Chennai-Bangalore       6493\n",
       "Bangalore-Chennai       6410\n",
       "Hyderabad-Chennai       6395\n",
       "Chennai-Hyderabad       6103\n",
       "Name: routes, dtype: int64"
      ]
     },
     "execution_count": 20,
     "metadata": {},
     "output_type": "execute_result"
    }
   ],
   "source": [
    "df['routes'] = df['source_city'] + '-' + df['destination_city']\n",
    "df['routes'].value_counts()"
   ]
  },
  {
   "cell_type": "code",
   "execution_count": 21,
   "id": "cc56374f",
   "metadata": {},
   "outputs": [
    {
     "data": {
      "text/plain": [
       "(300204, 12)"
      ]
     },
     "execution_count": 21,
     "metadata": {},
     "output_type": "execute_result"
    }
   ],
   "source": [
    "df.shape"
   ]
  },
  {
   "cell_type": "markdown",
   "id": "236d39e9",
   "metadata": {},
   "source": [
    "### Outliers"
   ]
  },
  {
   "cell_type": "code",
   "execution_count": 22,
   "id": "41067bfb",
   "metadata": {},
   "outputs": [
    {
     "data": {
      "text/html": [
       "<div>\n",
       "<style scoped>\n",
       "    .dataframe tbody tr th:only-of-type {\n",
       "        vertical-align: middle;\n",
       "    }\n",
       "\n",
       "    .dataframe tbody tr th {\n",
       "        vertical-align: top;\n",
       "    }\n",
       "\n",
       "    .dataframe thead th {\n",
       "        text-align: right;\n",
       "    }\n",
       "</style>\n",
       "<table border=\"1\" class=\"dataframe\">\n",
       "  <thead>\n",
       "    <tr style=\"text-align: right;\">\n",
       "      <th></th>\n",
       "      <th>days_left</th>\n",
       "      <th>price</th>\n",
       "      <th>duration_minute</th>\n",
       "    </tr>\n",
       "  </thead>\n",
       "  <tbody>\n",
       "    <tr>\n",
       "      <th>count</th>\n",
       "      <td>300204.000000</td>\n",
       "      <td>3.002040e+05</td>\n",
       "      <td>300204.000000</td>\n",
       "    </tr>\n",
       "    <tr>\n",
       "      <th>mean</th>\n",
       "      <td>26.000503</td>\n",
       "      <td>2.101474e+04</td>\n",
       "      <td>751.282058</td>\n",
       "    </tr>\n",
       "    <tr>\n",
       "      <th>std</th>\n",
       "      <td>13.563767</td>\n",
       "      <td>2.541873e+04</td>\n",
       "      <td>437.990613</td>\n",
       "    </tr>\n",
       "    <tr>\n",
       "      <th>min</th>\n",
       "      <td>1.000000</td>\n",
       "      <td>1.105000e+03</td>\n",
       "      <td>60.000000</td>\n",
       "    </tr>\n",
       "    <tr>\n",
       "      <th>25%</th>\n",
       "      <td>15.000000</td>\n",
       "      <td>4.783000e+03</td>\n",
       "      <td>427.750000</td>\n",
       "    </tr>\n",
       "    <tr>\n",
       "      <th>50%</th>\n",
       "      <td>26.000000</td>\n",
       "      <td>7.425000e+03</td>\n",
       "      <td>692.000000</td>\n",
       "    </tr>\n",
       "    <tr>\n",
       "      <th>75%</th>\n",
       "      <td>38.000000</td>\n",
       "      <td>4.252100e+04</td>\n",
       "      <td>985.000000</td>\n",
       "    </tr>\n",
       "    <tr>\n",
       "      <th>max</th>\n",
       "      <td>49.000000</td>\n",
       "      <td>2.512780e+06</td>\n",
       "      <td>37345.000000</td>\n",
       "    </tr>\n",
       "  </tbody>\n",
       "</table>\n",
       "</div>"
      ],
      "text/plain": [
       "           days_left         price  duration_minute\n",
       "count  300204.000000  3.002040e+05    300204.000000\n",
       "mean       26.000503  2.101474e+04       751.282058\n",
       "std        13.563767  2.541873e+04       437.990613\n",
       "min         1.000000  1.105000e+03        60.000000\n",
       "25%        15.000000  4.783000e+03       427.750000\n",
       "50%        26.000000  7.425000e+03       692.000000\n",
       "75%        38.000000  4.252100e+04       985.000000\n",
       "max        49.000000  2.512780e+06     37345.000000"
      ]
     },
     "execution_count": 22,
     "metadata": {},
     "output_type": "execute_result"
    }
   ],
   "source": [
    "df.describe()"
   ]
  },
  {
   "cell_type": "code",
   "execution_count": 24,
   "id": "9a9c4176",
   "metadata": {},
   "outputs": [
    {
     "data": {
      "image/png": "[encoded data removed]",
      "text/plain": [
       "<Figure size 720x432 with 3 Axes>"
      ]
     },
     "metadata": {
      "needs_background": "light"
     },
     "output_type": "display_data"
    }
   ],
   "source": [
    "# Boxplot For Outlier Visualization\n",
    "fig, ax = plt.subplots(1,3, figsize = (10, 6))\n",
    "\n",
    "sns.boxplot(y = 'days_left', data = df, ax = ax[0])\n",
    "ax[0].set_title(\"Days_left Outlier\")\n",
    "\n",
    "sns.boxplot(y = 'price', data = df, ax = ax[1])\n",
    "ax[1].set_title(\"Price Outlier\")\n",
    "\n",
    "sns.boxplot(y = 'duration_minute', data = df, ax = ax[2])\n",
    "ax[2].set_title(\"Duration Outlier\")\n",
    "\n",
    "\n",
    "plt.show()"
   ]
  },
  {
   "cell_type": "markdown",
   "id": "b9c52334",
   "metadata": {},
   "source": [
    "#### Removing the outliers"
   ]
  },
  {
   "cell_type": "code",
   "execution_count": 25,
   "id": "7402c18f",
   "metadata": {},
   "outputs": [
    {
     "name": "stdout",
     "output_type": "stream",
     "text": [
      "Quantile1:  4783.0\n",
      "Quantile3:  42521.0\n",
      "IQR:  37738.0\n",
      "lower_limit:  -51824.0\n",
      "upper_limit:  99128.0\n"
     ]
    }
   ],
   "source": [
    "# Quartile & limits\n",
    "q1_price = np.quantile(df['price'], 0.25)\n",
    "q3_price = np.quantile(df['price'], 0.75)\n",
    "IQR_price = q3_price - q1_price\n",
    "\n",
    "print('Quantile1: ', q1_price)\n",
    "print('Quantile3: ', q3_price)\n",
    "print('IQR: ', IQR_price)\n",
    "\n",
    "# IQR_limits\n",
    "lower_limit_price = q1_price - 1.5* IQR_price\n",
    "upper_limit_price = q3_price + 1.5* IQR_price\n",
    "\n",
    "print('lower_limit: ', lower_limit_price)\n",
    "print('upper_limit: ', upper_limit_price)"
   ]
  },
  {
   "cell_type": "code",
   "execution_count": 26,
   "id": "8f455e89",
   "metadata": {},
   "outputs": [],
   "source": [
    "# Removing the outliers\n",
    "df = df[(df['price']> lower_limit_price) & (df['price']< upper_limit_price)]"
   ]
  },
  {
   "cell_type": "code",
   "execution_count": 27,
   "id": "30930c13",
   "metadata": {},
   "outputs": [
    {
     "data": {
      "text/plain": [
       "(300041, 12)"
      ]
     },
     "execution_count": 27,
     "metadata": {},
     "output_type": "execute_result"
    }
   ],
   "source": [
    "df.shape"
   ]
  },
  {
   "cell_type": "code",
   "execution_count": 28,
   "id": "56ef05a7",
   "metadata": {},
   "outputs": [
    {
     "name": "stdout",
     "output_type": "stream",
     "text": [
      "Quantile1:  427.0\n",
      "Quantile3:  985.0\n",
      "IQR:  558.0\n",
      "lower_limit:  -410.0\n",
      "upper_limit:  1822.0\n"
     ]
    }
   ],
   "source": [
    "# Quartile & limits for 'duration_minute' column\n",
    "q1_duration_minute = np.quantile(df['duration_minute'], 0.25)\n",
    "q3_duration_minute = np.quantile(df['duration_minute'], 0.75)\n",
    "IQR_duration_minute = q3_duration_minute - q1_duration_minute\n",
    "\n",
    "print('Quantile1: ', q1_duration_minute)\n",
    "print('Quantile3: ', q3_duration_minute)\n",
    "print('IQR: ', IQR_duration_minute)\n",
    "\n",
    "# IQR_limits\n",
    "lower_limit_duration_minute = q1_duration_minute - 1.5* IQR_duration_minute\n",
    "upper_limit_duration_minute = q3_duration_minute + 1.5* IQR_duration_minute\n",
    "\n",
    "print('lower_limit: ', lower_limit_duration_minute)\n",
    "print('upper_limit: ', upper_limit_duration_minute)"
   ]
  },
  {
   "cell_type": "code",
   "execution_count": 29,
   "id": "8565e12b",
   "metadata": {},
   "outputs": [],
   "source": [
    "# Removing the outliers\n",
    "df = df[(df['duration_minute']> lower_limit_duration_minute) & (df['duration_minute']< upper_limit_duration_minute)]"
   ]
  },
  {
   "cell_type": "code",
   "execution_count": 30,
   "id": "132703b4",
   "metadata": {},
   "outputs": [
    {
     "data": {
      "text/html": [
       "<div>\n",
       "<style scoped>\n",
       "    .dataframe tbody tr th:only-of-type {\n",
       "        vertical-align: middle;\n",
       "    }\n",
       "\n",
       "    .dataframe tbody tr th {\n",
       "        vertical-align: top;\n",
       "    }\n",
       "\n",
       "    .dataframe thead th {\n",
       "        text-align: right;\n",
       "    }\n",
       "</style>\n",
       "<table border=\"1\" class=\"dataframe\">\n",
       "  <thead>\n",
       "    <tr style=\"text-align: right;\">\n",
       "      <th></th>\n",
       "      <th>days_left</th>\n",
       "      <th>price</th>\n",
       "      <th>duration_minute</th>\n",
       "    </tr>\n",
       "  </thead>\n",
       "  <tbody>\n",
       "    <tr>\n",
       "      <th>count</th>\n",
       "      <td>297808.000000</td>\n",
       "      <td>297808.000000</td>\n",
       "      <td>297808.000000</td>\n",
       "    </tr>\n",
       "    <tr>\n",
       "      <th>mean</th>\n",
       "      <td>26.039737</td>\n",
       "      <td>20882.163276</td>\n",
       "      <td>741.590716</td>\n",
       "    </tr>\n",
       "    <tr>\n",
       "      <th>std</th>\n",
       "      <td>13.549020</td>\n",
       "      <td>22672.480332</td>\n",
       "      <td>419.345082</td>\n",
       "    </tr>\n",
       "    <tr>\n",
       "      <th>min</th>\n",
       "      <td>1.000000</td>\n",
       "      <td>1105.000000</td>\n",
       "      <td>60.000000</td>\n",
       "    </tr>\n",
       "    <tr>\n",
       "      <th>25%</th>\n",
       "      <td>15.000000</td>\n",
       "      <td>4757.000000</td>\n",
       "      <td>427.000000</td>\n",
       "    </tr>\n",
       "    <tr>\n",
       "      <th>50%</th>\n",
       "      <td>26.000000</td>\n",
       "      <td>7424.000000</td>\n",
       "      <td>685.000000</td>\n",
       "    </tr>\n",
       "    <tr>\n",
       "      <th>75%</th>\n",
       "      <td>38.000000</td>\n",
       "      <td>42521.000000</td>\n",
       "      <td>977.000000</td>\n",
       "    </tr>\n",
       "    <tr>\n",
       "      <th>max</th>\n",
       "      <td>49.000000</td>\n",
       "      <td>98972.000000</td>\n",
       "      <td>1817.000000</td>\n",
       "    </tr>\n",
       "  </tbody>\n",
       "</table>\n",
       "</div>"
      ],
      "text/plain": [
       "           days_left          price  duration_minute\n",
       "count  297808.000000  297808.000000    297808.000000\n",
       "mean       26.039737   20882.163276       741.590716\n",
       "std        13.549020   22672.480332       419.345082\n",
       "min         1.000000    1105.000000        60.000000\n",
       "25%        15.000000    4757.000000       427.000000\n",
       "50%        26.000000    7424.000000       685.000000\n",
       "75%        38.000000   42521.000000       977.000000\n",
       "max        49.000000   98972.000000      1817.000000"
      ]
     },
     "execution_count": 30,
     "metadata": {},
     "output_type": "execute_result"
    }
   ],
   "source": [
    "df.describe()"
   ]
  },
  {
   "cell_type": "markdown",
   "id": "185529e2",
   "metadata": {},
   "source": [
    "### Creating Duration minute slab"
   ]
  },
  {
   "cell_type": "code",
   "execution_count": 31,
   "id": "31e94840",
   "metadata": {},
   "outputs": [
    {
     "data": {
      "text/plain": [
       "5 to 12 hrs         116648\n",
       "12 to 24 hrs        111491\n",
       "2 to 5 hrs           35956\n",
       "more than 24 hrs     27411\n",
       "up to 2 hrs           6302\n",
       "Name: duration_slab, dtype: int64"
      ]
     },
     "execution_count": 31,
     "metadata": {},
     "output_type": "execute_result"
    }
   ],
   "source": [
    "df['duration_slab'] = ['up to 2 hrs' if val <= 120 \n",
    "                       else '2 to 5 hrs' if 120< val <= 300\n",
    "                      else '5 to 12 hrs' if 300< val <= 720\n",
    "                      else '12 to 24 hrs' if 720< val <= 1440\n",
    "                      else 'more than 24 hrs'\n",
    "                      for val in df['duration_minute']]\n",
    "df['duration_slab'].value_counts()"
   ]
  },
  {
   "cell_type": "code",
   "execution_count": 32,
   "id": "655910b1",
   "metadata": {},
   "outputs": [
    {
     "data": {
      "text/plain": [
       "(297808, 13)"
      ]
     },
     "execution_count": 32,
     "metadata": {},
     "output_type": "execute_result"
    }
   ],
   "source": [
    "df.shape"
   ]
  },
  {
   "cell_type": "markdown",
   "id": "425e2911",
   "metadata": {},
   "source": [
    "### Cleaned Data "
   ]
  },
  {
   "cell_type": "code",
   "execution_count": 33,
   "id": "63cf9e15",
   "metadata": {},
   "outputs": [],
   "source": [
    "# Saving the cleaned data\n",
    "df.to_csv('C:\\Work\\YouTube\\Flight_Fare_Prediction\\cleaned_flight_data.csv', index = False)"
   ]
  },
  {
   "cell_type": "code",
   "execution_count": null,
   "id": "fd1da887",
   "metadata": {},
   "outputs": [],
   "source": []
  }
 ],
 "metadata": {
  "kernelspec": {
   "display_name": "Python 3 (ipykernel)",
   "language": "python",
   "name": "python3"
  },
  "language_info": {
   "codemirror_mode": {
    "name": "ipython",
    "version": 3
   },
   "file_extension": ".py",
   "mimetype": "text/x-python",
   "name": "python",
   "nbconvert_exporter": "python",
   "pygments_lexer": "ipython3",
   "version": "3.9.12"
  }
 },
 "nbformat": 4,
 "nbformat_minor": 5
}
